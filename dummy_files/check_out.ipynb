{
 "cells": [
  {
   "cell_type": "code",
   "execution_count": null,
   "metadata": {},
   "outputs": [],
   "source": [
    "import glob, os\n",
    "\n",
    "path = \"datasets/project_datas/train/\"\n",
    "classes = os.listdir(path)\n",
    "cls_num = [0, ] * 40\n",
    "\n",
    "for idx, cls in enumerate(classes):\n",
    "    files = glob.glob(path + cls + \"/*\")\n",
    "    for file in files:\n",
    "        if file[-3:] == 'png' or file[-3:] == 'jpg':\n",
    "            cls_num[idx] += 1\n",
    "        else:\n",
    "            print(file)\n",
    "            # os.remove(file)\n",
    "    # print(files)\n",
    "    # break"
   ]
  },
  {
   "cell_type": "code",
   "execution_count": null,
   "metadata": {},
   "outputs": [],
   "source": [
    "with open(\"class_num_train.txt\", \"a\") as f:\n",
    "    for id, xx in enumerate(cls_num):\n",
    "        f.write(f\"{classes[id]} {str(xx)}\\n\")\n",
    "# sum(cls_num)"
   ]
  }
 ],
 "metadata": {
  "language_info": {
   "name": "python"
  },
  "orig_nbformat": 4
 },
 "nbformat": 4,
 "nbformat_minor": 2
}
