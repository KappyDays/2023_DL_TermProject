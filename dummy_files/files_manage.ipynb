{
 "cells": [
  {
   "cell_type": "code",
   "execution_count": null,
   "metadata": {},
   "outputs": [],
   "source": [
    "import glob, os\n",
    "\n",
    "path = \"datasets/project_datas/train/\"\n",
    "classes = os.listdir(path)\n",
    "cls_num = [0, ] * 40\n",
    "\n",
    "for idx, cls in enumerate(classes):\n",
    "    files = glob.glob(path + cls + \"/*\")\n",
    "    for file in files:\n",
    "        if file[-3:] == 'png' or file[-3:] == 'jpg':\n",
    "            cls_num[idx] += 1\n",
    "        else:\n",
    "            print(file)\n",
    "            # os.remove(file)\n",
    "    # print(files)\n",
    "    # break"
   ]
  },
  {
   "cell_type": "code",
   "execution_count": 3,
   "metadata": {},
   "outputs": [],
   "source": [
    "re = []\n",
    "with open(\"../class_count/class_num_train.txt\", \"r\") as f:\n",
    "    for line in f:\n",
    "       re.append(int(line.split(' ')[1].strip()))\n",
    "    # for id, xx in enumerate(cls_num):\n",
    "        # f.write(f\"{classes[id]} {str(xx)}\\n\")\n",
    "# sum(cls_num)"
   ]
  },
  {
   "cell_type": "code",
   "execution_count": 6,
   "metadata": {},
   "outputs": [],
   "source": [
    "with open('rere.txt', 'a') as fq:\n",
    "    for qq in re:\n",
    "        fq.write(f\"{qq} x 3 = {qq*3}\\n\")\n",
    "    \n",
    "# re"
   ]
  },
  {
   "cell_type": "code",
   "execution_count": null,
   "metadata": {},
   "outputs": [],
   "source": [
    "with open(\"class_num_train.txt\", \"a\") as f:\n",
    "    for id, xx in enumerate(cls_num):\n",
    "        f.write(f\"{classes[id]} {str(xx)}\\n\")\n",
    "# sum(cls_num)"
   ]
  },
  {
   "cell_type": "code",
   "execution_count": 29,
   "metadata": {},
   "outputs": [
    {
     "name": "stdout",
     "output_type": "stream",
     "text": [
      "0.9419\n",
      "0.9781\n",
      "0.9937\n",
      "0.9027\n",
      "0.9241\n",
      "0.9213\n",
      "0.9449\n",
      "0.8381\n",
      "0.9728\n",
      "0.8343\n",
      "0.9940\n",
      "0.9338\n",
      "0.7719\n",
      "0.9610\n",
      "0.9593\n",
      "0.9417\n",
      "0.9283\n",
      "0.3333\n",
      "0.8934\n",
      "0.9220\n",
      "0.8716\n",
      "0.9746\n",
      "0.9528\n",
      "0.9167\n",
      "0.8696\n",
      "0.9756\n",
      "0.9205\n",
      "0.9493\n",
      "0.9615\n",
      "0.9779\n",
      "0.9097\n",
      "0.9573\n",
      "0.9091\n",
      "0.8564\n",
      "0.9453\n",
      "0.9399\n",
      "0.8511\n",
      "0.8929\n",
      "0.9674\n",
      "0.8328\n",
      "0.9080649999999999\n"
     ]
    }
   ],
   "source": [
    "sums = []\n",
    "with open(\"asd.txt\", 'r') as fr:\n",
    "    for temp in fr:\n",
    "        print(temp[37:43])\n",
    "        sums.append(float(temp[37:43]))\n",
    "\n",
    "        \n",
    "print(sum(sums) / 40)        "
   ]
  }
 ],
 "metadata": {
  "kernelspec": {
   "display_name": "sgmse",
   "language": "python",
   "name": "python3"
  },
  "language_info": {
   "codemirror_mode": {
    "name": "ipython",
    "version": 3
   },
   "file_extension": ".py",
   "mimetype": "text/x-python",
   "name": "python",
   "nbconvert_exporter": "python",
   "pygments_lexer": "ipython3",
   "version": "3.8.16"
  },
  "orig_nbformat": 4
 },
 "nbformat": 4,
 "nbformat_minor": 2
}
